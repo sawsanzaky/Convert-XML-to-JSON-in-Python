{
  "nbformat": 4,
  "nbformat_minor": 0,
  "metadata": {
    "colab": {
      "name": "Untitled8.ipynb",
      "provenance": [],
      "authorship_tag": "ABX9TyPyYVaGSJGC9xBpIphGtMiz",
      "include_colab_link": true
    },
    "kernelspec": {
      "name": "python3",
      "display_name": "Python 3"
    },
    "language_info": {
      "name": "python"
    }
  },
  "cells": [
    {
      "cell_type": "markdown",
      "metadata": {
        "id": "view-in-github",
        "colab_type": "text"
      },
      "source": [
        "<a href=\"https://colab.research.google.com/github/sawsanzaky/Convert-XML-to-JSON-in-Python/blob/main/code.ipynb\" target=\"_parent\"><img src=\"https://colab.research.google.com/assets/colab-badge.svg\" alt=\"Open In Colab\"/></a>"
      ]
    },
    {
      "cell_type": "markdown",
      "metadata": {
        "id": "p0P-OGdvHekK"
      },
      "source": [
        "**Convert XML to JSON in Python**"
      ]
    },
    {
      "cell_type": "code",
      "metadata": {
        "colab": {
          "base_uri": "https://localhost:8080/"
        },
        "id": "r2QWfqTL8IMW",
        "outputId": "969d5ed0-ad3f-4ebc-e53a-70f436f0ab42"
      },
      "source": [
        "import xmltodict #pass xml file and convert into dictionary\n",
        "import json  #pass dic and convert to json\n",
        "\n",
        "dictionary = xmltodict.parse(\"\"\"<note>\n",
        "  <date>2021-03-07</date>\n",
        "  <time>15:23</time>\n",
        "  <to>Sara</to>\n",
        "  <from>Khan</from>\n",
        "  <msg>Let's meet this weekend!</msg>\n",
        "</note>\"\"\")\n",
        "json_object = json.dumps(dictionary) \n",
        "print(json_object)"
      ],
      "execution_count": 3,
      "outputs": [
        {
          "output_type": "stream",
          "name": "stdout",
          "text": [
            "{\"note\": {\"date\": \"2021-03-07\", \"time\": \"15:23\", \"to\": \"Sara\", \"from\": \"Khan\", \"msg\": \"Let's meet this weekend!\"}}\n"
          ]
        }
      ]
    },
    {
      "cell_type": "code",
      "metadata": {
        "colab": {
          "base_uri": "https://localhost:8080/"
        },
        "id": "9kH-EhGtHiLP",
        "outputId": "c0bd35b5-b12b-49fb-9e47-d024bfedc2dd"
      },
      "source": [
        "pip install xmltodict"
      ],
      "execution_count": 2,
      "outputs": [
        {
          "output_type": "stream",
          "name": "stdout",
          "text": [
            "Collecting xmltodict\n",
            "  Downloading xmltodict-0.12.0-py2.py3-none-any.whl (9.2 kB)\n",
            "Installing collected packages: xmltodict\n",
            "Successfully installed xmltodict-0.12.0\n"
          ]
        }
      ]
    },
    {
      "cell_type": "code",
      "metadata": {
        "id": "QnelLeyFJBP6"
      },
      "source": [
        ""
      ],
      "execution_count": null,
      "outputs": []
    }
  ]
}